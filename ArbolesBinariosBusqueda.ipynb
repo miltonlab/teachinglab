{
 "cells": [
  {
   "cell_type": "code",
   "execution_count": 26,
   "metadata": {
    "collapsed": true
   },
   "outputs": [],
   "source": [
    "class NodoBB:\n",
    "    izq , der, dato = None, None, 0\n",
    " \n",
    "    def __init__(self, dato):\n",
    "        self.izq = None\n",
    "        self.der = None\n",
    "        self.dato = dato\n",
    "\n",
    "        \n",
    "class ArbolBB:\n",
    "    def __init__(self):\n",
    "        self.raiz = None\n",
    " \n",
    "    def agregarNodo(self, dato):\n",
    "        # crea un nuevo nodo y lo devuelve\n",
    "        return Nodo(dato)\n",
    " \n",
    "    def insertar(self, dato):\n",
    "        \n",
    "        # Funcion de ayuda (anónima) y recursiva para recorrer el Arbol\n",
    "        def recorrer(nodo):\n",
    "            if dato < nodo.dato:\n",
    "                if nodo.izq is None:\n",
    "                    nodo.izq = NodoBB(dato)\n",
    "                else:\n",
    "                    recorrer(nodo.izq)\n",
    "            # Entonces el dato a insertar es mayor que el nodo actual\n",
    "            elif nodo.der is None:\n",
    "                nodo.der = NodoBB(dato)\n",
    "            else:\n",
    "                recorrer(nodo.der)\n",
    "                \n",
    "        # Si el árbol está vacio inserta un dato nuevo en el árbol\n",
    "        if self.raiz is None:\n",
    "            self.raiz = NodoBB(dato)\n",
    "        else:\n",
    "            # si hay nodos en el árbol lo recorre\n",
    "            recorrer(self.raiz)\n",
    "            \n",
    "    def __str__(self):\n",
    "        \"\"\" Presentacion en formato string \"\"\"\n",
    "        def recorrer(nodo, nivel):\n",
    "            s = \"\"\n",
    "            if nodo is not None:\n",
    "                if nodo == self.raiz:\n",
    "                    s = str(self.raiz.dato) + \"\\n\"\n",
    "                else:\n",
    "                    s = (\" \" * (nivel - 1)) + (\"|__\") + str(nodo.dato) + \"\\n\" \n",
    "                s += recorrer(nodo.izq, nivel + 1)\n",
    "                s += recorrer(nodo.der, nivel + 1)\n",
    "            return s\n",
    "        \n",
    "        return recorrer(self.raiz, 0)\n",
    "    \n",
    "    def buscar(self, dato):\n",
    "        pass\n",
    "        "
   ]
  },
  {
   "cell_type": "code",
   "execution_count": 27,
   "metadata": {
    "collapsed": false
   },
   "outputs": [
    {
     "name": "stdout",
     "output_type": "stream",
     "text": [
      "D\n",
      "|__B\n",
      " |__A\n",
      " |__C\n",
      "|__F\n",
      " |__E\n",
      " |__G\n",
      "\n"
     ]
    }
   ],
   "source": [
    "arbol = ArbolBB()\n",
    "arbol.insertar('D')\n",
    "arbol.insertar('B')\n",
    "arbol.insertar('A')\n",
    "arbol.insertar('C')\n",
    "arbol.insertar('F')\n",
    "arbol.insertar('E')\n",
    "arbol.insertar('G')\n",
    "print (arbol)"
   ]
  },
  {
   "cell_type": "code",
   "execution_count": 11,
   "metadata": {
    "collapsed": false
   },
   "outputs": [
    {
     "data": {
      "text/plain": [
       "'F'"
      ]
     },
     "execution_count": 11,
     "metadata": {},
     "output_type": "execute_result"
    }
   ],
   "source": [
    "arbol.raiz.der.dato"
   ]
  }
 ],
 "metadata": {
  "kernelspec": {
   "display_name": "Python 3",
   "language": "python",
   "name": "python3"
  },
  "language_info": {
   "codemirror_mode": {
    "name": "ipython",
    "version": 3
   },
   "file_extension": ".py",
   "mimetype": "text/x-python",
   "name": "python",
   "nbconvert_exporter": "python",
   "pygments_lexer": "ipython3",
   "version": "3.4.3"
  }
 },
 "nbformat": 4,
 "nbformat_minor": 0
}
