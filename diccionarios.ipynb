{
 "cells": [
  {
   "cell_type": "code",
   "execution_count": 8,
   "metadata": {
    "collapsed": false
   },
   "outputs": [
    {
     "name": "stdout",
     "output_type": "stream",
     "text": [
      "{}\n"
     ]
    }
   ],
   "source": [
    "registro = dict() # {} alternativa\n",
    "print (registro)"
   ]
  },
  {
   "cell_type": "code",
   "execution_count": 9,
   "metadata": {
    "collapsed": false
   },
   "outputs": [
    {
     "name": "stdout",
     "output_type": "stream",
     "text": [
      "Ingrese su número de cédula123\n",
      "Ingrese sus nombresAna María\n",
      "Desea ingresar mas registros? (si/no)si\n",
      "Ingrese su número de cédula122\n",
      "Ingrese sus nombresJuan Manuel\n",
      "Desea ingresar mas registros? (si/no)si\n",
      "Ingrese su número de cédula345\n",
      "Ingrese sus nombresMaría Emilia\n",
      "Desea ingresar mas registros? (si/no)no\n"
     ]
    }
   ],
   "source": [
    "continuar = True\n",
    "while continuar:\n",
    "    cedula = input('Ingrese su número de cédula')\n",
    "    nombres = input('Ingrese sus nombres')\n",
    "    registro[cedula] = nombres\n",
    "    respuesta = input('Desea ingresar mas registros? (si/no)')\n",
    "    if respuesta == 'si':\n",
    "        continuar = True\n",
    "    else: \n",
    "        continuar = False   "
   ]
  },
  {
   "cell_type": "code",
   "execution_count": 10,
   "metadata": {
    "collapsed": false
   },
   "outputs": [
    {
     "name": "stdout",
     "output_type": "stream",
     "text": [
      "{'345': 'María Emilia', '122': 'Juan Manuel', '123': 'Ana María'}\n"
     ]
    }
   ],
   "source": [
    "print(registro)"
   ]
  }
 ],
 "metadata": {
  "kernelspec": {
   "display_name": "Python 3",
   "language": "python",
   "name": "python3"
  },
  "language_info": {
   "codemirror_mode": {
    "name": "ipython",
    "version": 3
   },
   "file_extension": ".py",
   "mimetype": "text/x-python",
   "name": "python",
   "nbconvert_exporter": "python",
   "pygments_lexer": "ipython3",
   "version": "3.4.3"
  }
 },
 "nbformat": 4,
 "nbformat_minor": 0
}
