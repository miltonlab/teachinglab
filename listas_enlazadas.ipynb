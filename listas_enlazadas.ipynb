{
 "cells": [
  {
   "cell_type": "code",
   "execution_count": 54,
   "metadata": {
    "collapsed": false
   },
   "outputs": [],
   "source": [
    "class ListaSimple:\n",
    "    # Atributo de la Clase\n",
    "    top = None\n",
    "    \n",
    "    def __init__(self):\n",
    "        # Inicialización del campo de información y de la referencia\n",
    "        self.dato = None\n",
    "        self.sig = None\n",
    "         \n",
    "    def es_vacia(self):\n",
    "        if ListaSimple.top is None:\n",
    "            return True\n",
    "        else:\n",
    "            return False\n",
    "        \n",
    "    def insertar_vacia(self, dato):\n",
    "        if self.es_vacia():\n",
    "            ListaSimple.top = ListaSimple()\n",
    "            ListaSimple.dato = dato\n",
    "            print(\"El nodo insertado es el primero\")\n",
    "        else:\n",
    "            print(\"La lista ya contiene elementos\")\n",
    "\n",
    "    def insertar_inicio(self, dato):\n",
    "        \"\"\"\n",
    "        Inserta el elemento en el inicio de la lista\n",
    "        \"\"\"\n",
    "        if not self.es_vacia():\n",
    "            tmp = ListaSimple()\n",
    "            tmp.dato = dato\n",
    "            tmp.sig = ListaSimple.top\n",
    "            ListaSimple.top = tmp\n",
    "        else:\n",
    "            print(\"No puede insertarse al final ... lista no contiene nodos\")\n",
    "            \n",
    "    def insertar_final(self, dato):\n",
    "        \"\"\"\n",
    "        Inserta el elemento al final de la lista\n",
    "        \"\"\"\n",
    "        if not self.es_vacia():\n",
    "            tmp = ListaSimple()\n",
    "            tmp.dato = dato\n",
    "            auxtop = ListaSimple.top\n",
    "            # Se recorre la lista\n",
    "            while auxtop.sig is not None:\n",
    "                auxtop = auxtop.sig\n",
    "            auxtop.sig = tmp\n",
    "        else:\n",
    "            print(\"No puede insertarse al final ... lista no contiene nodos\")\n",
    "            \n",
    "    def insertar_entre_nodos(self, refdato, dato):\n",
    "        # El campo refdato determina el nodo luego del cual debe insertarse\n",
    "        if not self.es_vacia():\n",
    "            tmp = ListaSimple()\n",
    "            tmp.dato = dato\n",
    "            auxtop = ListaSimple.top\n",
    "            # Se recorre la lista\n",
    "            while auxtop.dato is not dato:\n",
    "                auxtop = auxtop.sig\n",
    "                # Si se llega al nodo referencia\n",
    "                if auxtop.dato == refdato:\n",
    "                    tmp.sig = auxtop.sig\n",
    "                    tmp.sig = auxtop\n",
    "        else:\n",
    "            print(\"No puede insertarse al final ... lista no contiene nodos\")\n",
    "            \n",
    "    def presentar(self):\n",
    "        if self.es_vacia():\n",
    "            print(\"No existen nodos en la lista\")\n",
    "        else:\n",
    "            auxtop = ListaSimple.top\n",
    "            while auxtop is not None:\n",
    "                print(\"[{0}]\".format(auxtop.dato), end='->')\n",
    "                auxtop = auxtop.sig"
   ]
  },
  {
   "cell_type": "code",
   "execution_count": 56,
   "metadata": {
    "collapsed": false
   },
   "outputs": [
    {
     "name": "stdout",
     "output_type": "stream",
     "text": [
      "La lista ya contiene elementos\n",
      "[7]->[None]->[13]->"
     ]
    }
   ],
   "source": [
    "l = ListaSimple()\n",
    "l.insertar_vacia(6)\n",
    "l.insertar_inicio(7)\n",
    "l.insertar_final(13)\n",
    "l.presentar()"
   ]
  }
 ],
 "metadata": {
  "kernelspec": {
   "display_name": "Python 3",
   "language": "python",
   "name": "python3"
  },
  "language_info": {
   "codemirror_mode": {
    "name": "ipython",
    "version": 3
   },
   "file_extension": ".py",
   "mimetype": "text/x-python",
   "name": "python",
   "nbconvert_exporter": "python",
   "pygments_lexer": "ipython3",
   "version": "3.4.3"
  }
 },
 "nbformat": 4,
 "nbformat_minor": 0
}
